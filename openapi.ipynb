{
 "cells": [
  {
   "cell_type": "markdown",
   "metadata": {},
   "source": [
    "# API 사용"
   ]
  },
  {
   "cell_type": "code",
   "execution_count": 1,
   "metadata": {},
   "outputs": [],
   "source": [
    "import urllib.request\n",
    "client_id = \"lQ_UOGDAxHcoDvmvZVhj\"\n",
    "client_secret = \"UHNZorHG90\""
   ]
  },
  {
   "cell_type": "code",
   "execution_count": 2,
   "metadata": {},
   "outputs": [
    {
     "data": {
      "text/plain": [
       "'https://openapi.naver.com/v1/search/blog.json?query=%EB%A7%9B%EC%A7%91'"
      ]
     },
     "execution_count": 2,
     "metadata": {},
     "output_type": "execute_result"
    }
   ],
   "source": [
    "# 검색어를 한/영 구분없이 url에서 사용가능하게 바꿔줌\n",
    "encText = urllib.parse.quote(\"맛집\")\n",
    "url = \"https://openapi.naver.com/v1/search/blog.json?query=\"+encText\n",
    "url"
   ]
  },
  {
   "cell_type": "code",
   "execution_count": 3,
   "metadata": {},
   "outputs": [],
   "source": [
    "request = urllib.request.Request(url)\n",
    "request.add_header(\"X-Naver-Client-Id\", client_id)\n",
    "request.add_header(\"X-Naver-Client-Secret\", client_secret)"
   ]
  },
  {
   "cell_type": "code",
   "execution_count": 4,
   "metadata": {},
   "outputs": [
    {
     "name": "stdout",
     "output_type": "stream",
     "text": [
      "200\n"
     ]
    }
   ],
   "source": [
    "response = urllib.request.urlopen(request)\n",
    "print(response.getcode())\n",
    "#200= 정상으로 응답함을 뜻함"
   ]
  },
  {
   "cell_type": "code",
   "execution_count": 5,
   "metadata": {},
   "outputs": [
    {
     "data": {
      "text/plain": [
       "http.client.HTTPResponse"
      ]
     },
     "execution_count": 5,
     "metadata": {},
     "output_type": "execute_result"
    }
   ],
   "source": [
    "type(response)"
   ]
  },
  {
   "cell_type": "code",
   "execution_count": 6,
   "metadata": {},
   "outputs": [
    {
     "name": "stdout",
     "output_type": "stream",
     "text": [
      "{\n",
      "\"lastBuildDate\": \"Thu, 22 Apr 2021 21:23:36 +0900\",\n",
      "\"total\": 34909960,\n",
      "\"start\": 1,\n",
      "\"display\": 10,\n",
      "\"items\": [\n",
      "{\n",
      "\"title\": \"획기적인 속초 중앙시장 <b>맛집</b> 리스트\",\n",
      "\"link\": \"https:\\/\\/blog.naver.com\\/eogusdk890?Redirect=Log&logNo=222317107892\",\n",
      "\"description\": \"뭐니뭐니해도 해산물이 유명한 지역인 만큼 갑각류를 맛볼 수 있는 속초 중앙시장 <b>맛집</b>을... 제대로된 <b>맛집</b>만 찾아다니는 유명한 프로그램이라 어떤맛일지 궁금증이 커져가더라구요 실내로 들어갔을땐... \",\n",
      "\"bloggername\": \"바리유와 쑤지닝의 부부공간\",\n",
      "\"bloggerlink\": \"https://blog.naver.com/eogusdk890\",\n",
      "\"postdate\": \"20210420\"\n",
      "\n",
      "},\n",
      "{\n",
      "\"title\": \"확연했던 대포항 <b>맛집</b> 리스트\",\n",
      "\"link\": \"https:\\/\\/blog.naver.com\\/blue_yj28?Redirect=Log&logNo=222318288611\",\n",
      "\"description\": \"지난 주말엔 친구들과 바다구경하러 강원도에 갔다가 다같이 대포항 <b>맛집</b>을 다녀왔어요~ 살수율이... 게다가 대포항 <b>맛집</b>은 4천원만 내면 해산물을 비롯한 다양한 스끼다시를 셀프바에서 무제한으로 맛볼... \",\n",
      "\"bloggername\": \"뜨겁게 안녕-♩\",\n",
      "\"bloggerlink\": \"https://blog.naver.com/blue_yj28\",\n",
      "\"postdate\": \"20210422\"\n",
      "\n",
      "},\n",
      "{\n",
      "\"title\": \"진국이었던 단양 <b>맛집</b> 소개\",\n",
      "\"link\": \"https:\\/\\/blog.naver.com\\/s134568?Redirect=Log&logNo=222316086795\",\n",
      "\"description\": \"최근에 친한 지인이 취업을 해서 축하 겸 단양 <b>맛집</b>에서 식사를 했는데요. 질이 다른 떡갈비에... 원하는 자리에 앉아 단양 <b>맛집</b>의 메뉴판부터 훑어봤는데요. 다양한 정식이 판매되고 있었는데, 저희는... \",\n",
      "\"bloggername\": \"홍꼬탕의 일상다반사\",\n",
      "\"bloggerlink\": \"https://blog.naver.com/s134568\",\n",
      "\"postdate\": \"20210420\"\n",
      "\n",
      "},\n",
      "{\n",
      "\"title\": \"합리적인 경기도 광주 <b>맛집</b> 모음\",\n",
      "\"link\": \"https:\\/\\/blog.naver.com\\/ixxoxxii?Redirect=Log&logNo=222316685835\",\n",
      "\"description\": \"합리적인 경기도 광주 <b>맛집</b> 모음 얼마 전, 지인들과의 모임으로 예약해 놓은 경기도 광주 <b>맛집</b>을 찾았어요. 저렴한 가격으로 프리미엄급 소고기를 맛볼 수 있어 뿌듯함이 느껴지는 곳이었어요. 1. 육전무... \",\n",
      "\"bloggername\": \"반짝반짝 빛나는 김꼬망 :-)\",\n",
      "\"bloggerlink\": \"https://blog.naver.com/ixxoxxii\",\n",
      "\"postdate\": \"20210420\"\n",
      "\n",
      "},\n",
      "{\n",
      "\"title\": \"오감만족한 정동진 <b>맛집</b> 모음\",\n",
      "\"link\": \"https:\\/\\/blog.naver.com\\/mal3500?Redirect=Log&logNo=222316544621\",\n",
      "\"description\": \"지난주 친한 지인들과 바닷바람도 쐴겸 괜찮은 정동진 <b>맛집</b>에 다녀왔어요. 신선한 해산물요리와 알찬... 정동진 <b>맛집</b>의 영업시간은 오전 9시부터 오후 10시 30분까지라 아침식사도 가능하다고 하니 방문전... \",\n",
      "\"bloggername\": \"나로의 LP music Story~!!\",\n",
      "\"bloggerlink\": \"https://blog.naver.com/mal3500\",\n",
      "\"postdate\": \"20210420\"\n",
      "\n",
      "},\n",
      "{\n",
      "\"title\": \"정갈한 강화도 <b>맛집</b> 리스트\",\n",
      "\"link\": \"https:\\/\\/blog.naver.com\\/tabo4515?Redirect=Log&logNo=222317485817\",\n",
      "\"description\": \"얼마 전 가족과 드라이브 갔다가 전부터 가보고 싶던 강화도 <b>맛집</b>에 찾아갔다. 다양한 해산물 요리를... 한쪽 벽면에는 수많은 연예인들 싸인이 붙어있었는데 문구에도 다들 호평일색이라 강화도 <b>맛집</b>에서... \",\n",
      "\"bloggername\": \"Always Twinkle\",\n",
      "\"bloggerlink\": \"https://blog.naver.com/tabo4515\",\n",
      "\"postdate\": \"20210421\"\n",
      "\n",
      "},\n",
      "{\n",
      "\"title\": \"정평이난 익산<b>맛집</b> 리스트\",\n",
      "\"link\": \"https:\\/\\/blog.naver.com\\/ndg98040?Redirect=Log&logNo=222315885907\",\n",
      "\"description\": \"이 친구가 전부터 가보고 싶었던 익산<b>맛집</b>이 있대서 코스에 넣고 가봤어요. 특별한 맛과 훌륭한... 익산시청에서 지정하여 부여하는 익산<b>맛집</b> 공식 인증 마크가 있더라구요! 시에서 인증했다고 하니까... \",\n",
      "\"bloggername\": \"노라니월드\",\n",
      "\"bloggerlink\": \"https://blog.naver.com/ndg98040\",\n",
      "\"postdate\": \"20210419\"\n",
      "\n",
      "},\n",
      "{\n",
      "\"title\": \"박수쳤던 군산 <b>맛집</b> 공유\",\n",
      "\"link\": \"https:\\/\\/blog.naver.com\\/yongham1110?Redirect=Log&logNo=222319316974\",\n",
      "\"description\": \"며칠 전 친구들과 함께 근처 군산 <b>맛집</b>을 찾아 다녀 왔어요. 낙지가 통으로 들어간 짬뽕에 국물이... 그 만큼 많은 사람들에게 인기<b>맛집</b>으로 손 꼽혀 있다는걸 눈치챌 수 있었어요. 그리고 벽면에는 여러... \",\n",
      "\"bloggername\": \"용햄's 블로그♥\",\n",
      "\"bloggerlink\": \"https://blog.naver.com/yongham1110\",\n",
      "\"postdate\": \"20210422\"\n",
      "\n",
      "},\n",
      "{\n",
      "\"title\": \"우수했던 제주 함덕 <b>맛집</b> 리스트\",\n",
      "\"link\": \"https:\\/\\/blog.naver.com\\/emma1128?Redirect=Log&logNo=222318180872\",\n",
      "\"description\": \"함덕 <b>맛집</b>이었는데 재료가 워낙 좋다보니까 제대로 된 맛을 만끽했어요 1. 도민상회 흑돼지 근고기 60... 함덕 <b>맛집</b>한상이 쫘악 차려졌어요 밑반찬부터 메인메뉴까지 줄줄이 상 위에 올라와서 이게 바로... \",\n",
      "\"bloggername\": \"감성엠마\",\n",
      "\"bloggerlink\": \"https://blog.naver.com/emma1128\",\n",
      "\"postdate\": \"20210421\"\n",
      "\n",
      "},\n",
      "{\n",
      "\"title\": \"으뜸가던 광명시 <b>맛집</b>\",\n",
      "\"link\": \"https:\\/\\/blog.naver.com\\/dinyland?Redirect=Log&logNo=222314247829\",\n",
      "\"description\": \"광명시 <b>맛집</b>을 방문하여 대게와 랍스터를 포장해왔어요 헬로크랩 제가 방문한 곳은 헬로크랩이라고... 광명시 <b>맛집</b>의 인테리어가 펼쳐져요 또 벚꽃나무가 크게 자리잡고 있는데 여심을 저격하는 분위기에요... \",\n",
      "\"bloggername\": \"Diny land*\",\n",
      "\"bloggerlink\": \"https://blog.naver.com/dinyland\",\n",
      "\"postdate\": \"20210418\"\n",
      "\n",
      "}\n",
      "]\n",
      "}\n",
      "\n"
     ]
    }
   ],
   "source": [
    "print(response.read().decode('utf-8'))"
   ]
  },
  {
   "cell_type": "code",
   "execution_count": 8,
   "metadata": {},
   "outputs": [],
   "source": [
    "#네이버트렌드분석open api 가져오기\n",
    "#https://wooiljeong.github.io/python/naver_datalab_open_api/\n"
   ]
  },
  {
   "cell_type": "markdown",
   "metadata": {},
   "source": [
    "# 네이버 책 검색에서 정보 가져오기"
   ]
  },
  {
   "cell_type": "code",
   "execution_count": 7,
   "metadata": {},
   "outputs": [],
   "source": [
    "def create_url(api_node, search_text, start_num, disp_num):\n",
    "    base = \"https://openapi.naver.com/v1/search\"\n",
    "    node = \"/\" + api_node + \".json\"\n",
    "    param_query = \"?query=\" + urllib.parse.quote(search_text)\n",
    "    param_start = \"&start=\" + str(start_num)\n",
    "    param_disp = \"&display=\" + str(disp_num)\n",
    "    \n",
    "    return base + node + param_query + param_start + param_disp"
   ]
  },
  {
   "cell_type": "code",
   "execution_count": 8,
   "metadata": {},
   "outputs": [
    {
     "data": {
      "text/plain": [
       "'https://openapi.naver.com/v1/search/book.json?query=TEST&start=1&display=10'"
      ]
     },
     "execution_count": 8,
     "metadata": {},
     "output_type": "execute_result"
    }
   ],
   "source": [
    "create_url(\"book\",\"TEST\",1,10)"
   ]
  },
  {
   "cell_type": "code",
   "execution_count": 9,
   "metadata": {},
   "outputs": [
    {
     "data": {
      "text/plain": [
       "{'lastBuildDate': 'Thu, 22 Apr 2021 21:23:47 +0900',\n",
       " 'total': 106276,\n",
       " 'start': 1,\n",
       " 'display': 3,\n",
       " 'items': [{'title': '집밥이 더 맛있어지는 명랑쌤 비법 국물<b>요리</b> (넉넉히 만들어둔 비법 밑국물로 맛있게 한 끼 완성하기)',\n",
       "   'link': 'http://book.naver.com/bookdb/book_detail.php?bid=17580081',\n",
       "   'image': 'https://bookthumb-phinf.pstatic.net/cover/175/800/17580081.jpg?type=m1&udate=20210220',\n",
       "   'author': '명랑쌤(이혜원)',\n",
       "   'price': '13800',\n",
       "   'discount': '12420',\n",
       "   'publisher': '레시피팩토리',\n",
       "   'pubdate': '20201210',\n",
       "   'isbn': '118547367X 9791185473673',\n",
       "   'description': '“국물<b>요리</b>, 번거롭고 어렵다는 분들 참 많지요? \\n하지만 밥상에서 빼놓을 수 없는 국, 찌개, 전골 등 푸짐한 국물<b>요리</b> 몇 가지만 제대로 배워두면 집밥이 훨씬 더 맛있어집니다!”\\n천연 재료로 제대로 만드는, 진짜 맛있는 국물<b>요리</b>를 배우고 싶다는 분들이 참 많습니다. 그래서 <b>요리</b> 잘하는 주부, 파워 인플루언서... '},\n",
       "  {'title': '나의 프랑스식 오븐 <b>요리</b> (채소, 생선, 고기, 애피타이저, 메인, 디저트)',\n",
       "   'link': 'http://book.naver.com/bookdb/book_detail.php?bid=17651577',\n",
       "   'image': 'https://bookthumb-phinf.pstatic.net/cover/176/515/17651577.jpg?type=m1&udate=20210330',\n",
       "   'author': '이선혜',\n",
       "   'price': '18000',\n",
       "   'discount': '16200',\n",
       "   'publisher': 'b.read(브레드)',\n",
       "   'pubdate': '20201223',\n",
       "   'isbn': '1190920050 9791190920056',\n",
       "   'description': '나의 오븐 <b>요리</b>법은 전문가의 방법보다 간단하고 유연하다. 재료의 선택과 매치, 자르는 크기, 재료마다 넣는 시점 등 실패를 경험하며 찾아낸 레시피다. 오래 살림하다 보니 어머니의 손맛이란 것이 어쩌면 마음을 담은 수많은 실험의 결과, 뜨거운 과학이 아닐까 싶다. \\n-본문 중에서'},\n",
       "  {'title': '아이가 좋아하는 엄마표 <b>요리</b> 100 (맛과 건강을 한번에! 아이 입맛 사로잡는 인기 만점 영양 가득 홈레시피)',\n",
       "   'link': 'http://book.naver.com/bookdb/book_detail.php?bid=17356390',\n",
       "   'image': 'https://bookthumb-phinf.pstatic.net/cover/173/563/17356390.jpg?type=m1&udate=20201110',\n",
       "   'author': '이동미',\n",
       "   'price': '14800',\n",
       "   'discount': '13320',\n",
       "   'publisher': '경향BP',\n",
       "   'pubdate': '20201118',\n",
       "   'isbn': '8969524398 9788969524393',\n",
       "   'description': '23만 팔로워들이 믿고 보는\\n        엄마표 <b>요리</b> 레시피! \\n        SNS 아이 <b>요리</b> 맛집 \\n        @DONGMI__LEE의 100가지 엄마표 <b>요리</b>아이들이 집에 있는 시간이 많아지면서 슬슬 알고 있던 레시피가 동이 났다면, \\n매일 똑같은 것 말고 새로운 것 먹고 싶다는 아이들의 성화에 곤란해졌다면 이 책을 주목하자! \\n\\n10살, 7살... '}]}"
      ]
     },
     "execution_count": 9,
     "metadata": {},
     "output_type": "execute_result"
    }
   ],
   "source": [
    "import json \n",
    "\n",
    "client_id = \"lQ_UOGDAxHcoDvmvZVhj\"\n",
    "client_secret = \"UHNZorHG90\"\n",
    "\n",
    "url = create_url(\"book\",\"요리\",1,3)\n",
    "\n",
    "request = urllib.request.Request(url)\n",
    "request.add_header(\"X-Naver-Client-Id\", client_id)\n",
    "request.add_header(\"X-Naver-Client-Secret\", client_secret)\n",
    "\n",
    "response = urllib.request.urlopen(request)\n",
    "\n",
    "result = json.loads(response.read().decode('utf-8'))\n",
    "result"
   ]
  },
  {
   "cell_type": "code",
   "execution_count": 10,
   "metadata": {},
   "outputs": [
    {
     "data": {
      "text/plain": [
       "3"
      ]
     },
     "execution_count": 10,
     "metadata": {},
     "output_type": "execute_result"
    }
   ],
   "source": [
    "result['display']"
   ]
  },
  {
   "cell_type": "code",
   "execution_count": 11,
   "metadata": {},
   "outputs": [
    {
     "data": {
      "text/plain": [
       "[{'title': '집밥이 더 맛있어지는 명랑쌤 비법 국물<b>요리</b> (넉넉히 만들어둔 비법 밑국물로 맛있게 한 끼 완성하기)',\n",
       "  'link': 'http://book.naver.com/bookdb/book_detail.php?bid=17580081',\n",
       "  'image': 'https://bookthumb-phinf.pstatic.net/cover/175/800/17580081.jpg?type=m1&udate=20210220',\n",
       "  'author': '명랑쌤(이혜원)',\n",
       "  'price': '13800',\n",
       "  'discount': '12420',\n",
       "  'publisher': '레시피팩토리',\n",
       "  'pubdate': '20201210',\n",
       "  'isbn': '118547367X 9791185473673',\n",
       "  'description': '“국물<b>요리</b>, 번거롭고 어렵다는 분들 참 많지요? \\n하지만 밥상에서 빼놓을 수 없는 국, 찌개, 전골 등 푸짐한 국물<b>요리</b> 몇 가지만 제대로 배워두면 집밥이 훨씬 더 맛있어집니다!”\\n천연 재료로 제대로 만드는, 진짜 맛있는 국물<b>요리</b>를 배우고 싶다는 분들이 참 많습니다. 그래서 <b>요리</b> 잘하는 주부, 파워 인플루언서... '},\n",
       " {'title': '나의 프랑스식 오븐 <b>요리</b> (채소, 생선, 고기, 애피타이저, 메인, 디저트)',\n",
       "  'link': 'http://book.naver.com/bookdb/book_detail.php?bid=17651577',\n",
       "  'image': 'https://bookthumb-phinf.pstatic.net/cover/176/515/17651577.jpg?type=m1&udate=20210330',\n",
       "  'author': '이선혜',\n",
       "  'price': '18000',\n",
       "  'discount': '16200',\n",
       "  'publisher': 'b.read(브레드)',\n",
       "  'pubdate': '20201223',\n",
       "  'isbn': '1190920050 9791190920056',\n",
       "  'description': '나의 오븐 <b>요리</b>법은 전문가의 방법보다 간단하고 유연하다. 재료의 선택과 매치, 자르는 크기, 재료마다 넣는 시점 등 실패를 경험하며 찾아낸 레시피다. 오래 살림하다 보니 어머니의 손맛이란 것이 어쩌면 마음을 담은 수많은 실험의 결과, 뜨거운 과학이 아닐까 싶다. \\n-본문 중에서'},\n",
       " {'title': '아이가 좋아하는 엄마표 <b>요리</b> 100 (맛과 건강을 한번에! 아이 입맛 사로잡는 인기 만점 영양 가득 홈레시피)',\n",
       "  'link': 'http://book.naver.com/bookdb/book_detail.php?bid=17356390',\n",
       "  'image': 'https://bookthumb-phinf.pstatic.net/cover/173/563/17356390.jpg?type=m1&udate=20201110',\n",
       "  'author': '이동미',\n",
       "  'price': '14800',\n",
       "  'discount': '13320',\n",
       "  'publisher': '경향BP',\n",
       "  'pubdate': '20201118',\n",
       "  'isbn': '8969524398 9788969524393',\n",
       "  'description': '23만 팔로워들이 믿고 보는\\n        엄마표 <b>요리</b> 레시피! \\n        SNS 아이 <b>요리</b> 맛집 \\n        @DONGMI__LEE의 100가지 엄마표 <b>요리</b>아이들이 집에 있는 시간이 많아지면서 슬슬 알고 있던 레시피가 동이 났다면, \\n매일 똑같은 것 말고 새로운 것 먹고 싶다는 아이들의 성화에 곤란해졌다면 이 책을 주목하자! \\n\\n10살, 7살... '}]"
      ]
     },
     "execution_count": 11,
     "metadata": {},
     "output_type": "execute_result"
    }
   ],
   "source": [
    "result['items']"
   ]
  },
  {
   "cell_type": "code",
   "execution_count": 12,
   "metadata": {},
   "outputs": [
    {
     "data": {
      "text/plain": [
       "3"
      ]
     },
     "execution_count": 12,
     "metadata": {},
     "output_type": "execute_result"
    }
   ],
   "source": [
    "len(result['items'])"
   ]
  },
  {
   "cell_type": "code",
   "execution_count": 74,
   "metadata": {},
   "outputs": [
    {
     "ename": "SyntaxError",
     "evalue": "invalid syntax (<ipython-input-74-9b313026ce5a>, line 1)",
     "output_type": "error",
     "traceback": [
      "\u001b[1;36m  File \u001b[1;32m\"<ipython-input-74-9b313026ce5a>\"\u001b[1;36m, line \u001b[1;32m1\u001b[0m\n\u001b[1;33m    titles = response.read(result['items'][n]['title']) for n in range(3)]\u001b[0m\n\u001b[1;37m                                                        ^\u001b[0m\n\u001b[1;31mSyntaxError\u001b[0m\u001b[1;31m:\u001b[0m invalid syntax\n"
     ]
    }
   ],
   "source": [
    "titles = [result['items'][n]['title'] for n in range(3)]\n",
    "titles"
   ]
  },
  {
   "cell_type": "code",
   "execution_count": 14,
   "metadata": {},
   "outputs": [
    {
     "data": {
      "text/plain": [
       "['명랑쌤(이혜원)', '이선혜', '이동미']"
      ]
     },
     "execution_count": 14,
     "metadata": {},
     "output_type": "execute_result"
    }
   ],
   "source": [
    "author = [result['items'][n]['author'] for n in range(3)]\n",
    "author"
   ]
  },
  {
   "cell_type": "code",
   "execution_count": 16,
   "metadata": {},
   "outputs": [],
   "source": [
    "price = [result['items'][n]['price'] for n in range(3)]"
   ]
  },
  {
   "cell_type": "code",
   "execution_count": 22,
   "metadata": {},
   "outputs": [],
   "source": [
    "pubdata = [result['items'][n]['pubdate'] for n in range(3)]"
   ]
  },
  {
   "cell_type": "code",
   "execution_count": 23,
   "metadata": {},
   "outputs": [],
   "source": [
    "import pandas as pd \n",
    "\n",
    "booklist=pd.DataFrame({'책제목':titles,'작가':author,'가격':price,'출판일':pubdata})"
   ]
  },
  {
   "cell_type": "code",
   "execution_count": 24,
   "metadata": {},
   "outputs": [
    {
     "data": {
      "text/html": [
       "<div>\n",
       "<style scoped>\n",
       "    .dataframe tbody tr th:only-of-type {\n",
       "        vertical-align: middle;\n",
       "    }\n",
       "\n",
       "    .dataframe tbody tr th {\n",
       "        vertical-align: top;\n",
       "    }\n",
       "\n",
       "    .dataframe thead th {\n",
       "        text-align: right;\n",
       "    }\n",
       "</style>\n",
       "<table border=\"1\" class=\"dataframe\">\n",
       "  <thead>\n",
       "    <tr style=\"text-align: right;\">\n",
       "      <th></th>\n",
       "      <th>책제목</th>\n",
       "      <th>작가</th>\n",
       "      <th>가격</th>\n",
       "      <th>출판일</th>\n",
       "    </tr>\n",
       "  </thead>\n",
       "  <tbody>\n",
       "    <tr>\n",
       "      <th>0</th>\n",
       "      <td>집밥이 더 맛있어지는 명랑쌤 비법 국물&lt;b&gt;요리&lt;/b&gt; (넉넉히 만들어둔 비법 밑국...</td>\n",
       "      <td>명랑쌤(이혜원)</td>\n",
       "      <td>13800</td>\n",
       "      <td>20201210</td>\n",
       "    </tr>\n",
       "    <tr>\n",
       "      <th>1</th>\n",
       "      <td>나의 프랑스식 오븐 &lt;b&gt;요리&lt;/b&gt; (채소, 생선, 고기, 애피타이저, 메인, 디저트)</td>\n",
       "      <td>이선혜</td>\n",
       "      <td>18000</td>\n",
       "      <td>20201223</td>\n",
       "    </tr>\n",
       "    <tr>\n",
       "      <th>2</th>\n",
       "      <td>아이가 좋아하는 엄마표 &lt;b&gt;요리&lt;/b&gt; 100 (맛과 건강을 한번에! 아이 입맛 ...</td>\n",
       "      <td>이동미</td>\n",
       "      <td>14800</td>\n",
       "      <td>20201118</td>\n",
       "    </tr>\n",
       "  </tbody>\n",
       "</table>\n",
       "</div>"
      ],
      "text/plain": [
       "                                                 책제목        작가     가격  \\\n",
       "0  집밥이 더 맛있어지는 명랑쌤 비법 국물<b>요리</b> (넉넉히 만들어둔 비법 밑국...  명랑쌤(이혜원)  13800   \n",
       "1  나의 프랑스식 오븐 <b>요리</b> (채소, 생선, 고기, 애피타이저, 메인, 디저트)       이선혜  18000   \n",
       "2  아이가 좋아하는 엄마표 <b>요리</b> 100 (맛과 건강을 한번에! 아이 입맛 ...       이동미  14800   \n",
       "\n",
       "        출판일  \n",
       "0  20201210  \n",
       "1  20201223  \n",
       "2  20201118  "
      ]
     },
     "execution_count": 24,
     "metadata": {},
     "output_type": "execute_result"
    }
   ],
   "source": [
    "booklist"
   ]
  },
  {
   "cell_type": "code",
   "execution_count": 51,
   "metadata": {},
   "outputs": [],
   "source": [
    "import pandas as pd\n",
    "import numpy as np"
   ]
  },
  {
   "cell_type": "code",
   "execution_count": 68,
   "metadata": {},
   "outputs": [
    {
     "data": {
      "text/plain": [
       "Series([], Name: 가격, dtype: object)"
      ]
     },
     "execution_count": 68,
     "metadata": {},
     "output_type": "execute_result"
    }
   ],
   "source": [
    "booklist.loc[booklist['출판일'].str.contains(\"2019\"),'가격'].mean()"
   ]
  },
  {
   "cell_type": "code",
   "execution_count": 70,
   "metadata": {},
   "outputs": [
    {
     "data": {
      "text/plain": [
       "15900.0"
      ]
     },
     "execution_count": 70,
     "metadata": {},
     "output_type": "execute_result"
    }
   ],
   "source": [
    "np.mean(booklist[booklist['출판일'].str.contains(\"2019\")].loc[:,'가격'].astype(float))"
   ]
  },
  {
   "cell_type": "code",
   "execution_count": null,
   "metadata": {},
   "outputs": [],
   "source": []
  },
  {
   "cell_type": "code",
   "execution_count": 32,
   "metadata": {},
   "outputs": [
    {
     "ename": "SyntaxError",
     "evalue": "invalid syntax (<ipython-input-32-b51ea41855e7>, line 2)",
     "output_type": "error",
     "traceback": [
      "\u001b[1;36m  File \u001b[1;32m\"<ipython-input-32-b51ea41855e7>\"\u001b[1;36m, line \u001b[1;32m2\u001b[0m\n\u001b[1;33m    if booklist['출판일']<='20200000' and booklist['출판일']>='20190000'\u001b[0m\n\u001b[1;37m                                                                   ^\u001b[0m\n\u001b[1;31mSyntaxError\u001b[0m\u001b[1;31m:\u001b[0m invalid syntax\n"
     ]
    }
   ],
   "source": [
    "for i in range(len(booklist)):\n",
    "    if booklist['출판일'].str.contains(\"202012\"):\n",
    "        p = booklist['가격'][i]\n",
    "        "
   ]
  },
  {
   "cell_type": "code",
   "execution_count": null,
   "metadata": {},
   "outputs": [],
   "source": []
  }
 ],
 "metadata": {
  "kernelspec": {
   "display_name": "Python 3",
   "language": "python",
   "name": "python3"
  },
  "language_info": {
   "codemirror_mode": {
    "name": "ipython",
    "version": 3
   },
   "file_extension": ".py",
   "mimetype": "text/x-python",
   "name": "python",
   "nbconvert_exporter": "python",
   "pygments_lexer": "ipython3",
   "version": "3.8.5"
  }
 },
 "nbformat": 4,
 "nbformat_minor": 4
}
